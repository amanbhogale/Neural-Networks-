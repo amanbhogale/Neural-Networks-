{
 "cells": [
  {
   "cell_type": "code",
   "execution_count": 1,
   "id": "fc816aa5",
   "metadata": {},
   "outputs": [],
   "source": [
    "import numpy as np\n",
    "import pandas as pd\n",
    "from matplotlib import pyplot as plt\n",
    "\n",
    "data = pd.read_csv('./train.csv')"
   ]
  },
  {
   "cell_type": "code",
   "execution_count": 2,
   "id": "bbed0604",
   "metadata": {},
   "outputs": [],
   "source": [
    "data = np.array(data)\n",
    "m, n = data.shape\n",
    "np.random.shuffle(data) # shuffle before splitting into dev and training sets\n",
    "\n",
    "data_dev = data[0:1000].T\n",
    "Y_dev = data_dev[0]\n",
    "X_dev = data_dev[1:n]\n",
    "X_dev = X_dev / 255.\n",
    "\n",
    "data_train = data[1000:m].T\n",
    "Y_train = data_train[0]\n",
    "X_train = data_train[1:n]\n",
    "X_train = X_train / 255.\n",
    "_,m_train = X_train.shape"
   ]
  },
  {
   "cell_type": "code",
   "execution_count": 3,
   "id": "fe62d266",
   "metadata": {},
   "outputs": [
    {
     "data": {
      "text/plain": [
       "array([4, 5, 5, ..., 8, 1, 1], dtype=int64)"
      ]
     },
     "execution_count": 3,
     "metadata": {},
     "output_type": "execute_result"
    }
   ],
   "source": [
    "Y_train"
   ]
  },
  {
   "cell_type": "code",
   "execution_count": 4,
   "id": "fb10322a",
   "metadata": {},
   "outputs": [],
   "source": [
    "def init_params():\n",
    "    W1 = np.random.rand(10, 784) - 0.5\n",
    "    b1 = np.random.rand(10, 1) - 0.5\n",
    "    W2 = np.random.rand(10, 10) - 0.5\n",
    "    b2 = np.random.rand(10, 1) - 0.5\n",
    "    return W1, b1, W2, b2\n",
    "\n",
    "def ReLU(Z):\n",
    "    return np.maximum(Z, 0)\n",
    "\n",
    "def softmax(Z):\n",
    "    A = np.exp(Z) / sum(np.exp(Z))\n",
    "    return A\n",
    "    \n",
    "def forward_prop(W1, b1, W2, b2, X):\n",
    "    Z1 = W1.dot(X) + b1\n",
    "    A1 = ReLU(Z1)\n",
    "    Z2 = W2.dot(A1) + b2\n",
    "    A2 = softmax(Z2)\n",
    "    return Z1, A1, Z2, A2\n",
    "\n",
    "def ReLU_deriv(Z):\n",
    "    return Z > 0\n",
    "\n",
    "def one_hot(Y):\n",
    "    one_hot_Y = np.zeros((Y.size, Y.max() + 1))\n",
    "    one_hot_Y[np.arange(Y.size), Y] = 1\n",
    "    one_hot_Y = one_hot_Y.T\n",
    "    return one_hot_Y\n",
    "\n",
    "def backward_prop(Z1, A1, Z2, A2, W1, W2, X, Y):\n",
    "    one_hot_Y = one_hot(Y)\n",
    "    dZ2 = A2 - one_hot_Y\n",
    "    dW2 = 1 / m * dZ2.dot(A1.T)\n",
    "    db2 = 1 / m * np.sum(dZ2)\n",
    "    dZ1 = W2.T.dot(dZ2) * ReLU_deriv(Z1)\n",
    "    dW1 = 1 / m * dZ1.dot(X.T)\n",
    "    db1 = 1 / m * np.sum(dZ1)\n",
    "    return dW1, db1, dW2, db2\n",
    "\n",
    "def update_params(W1, b1, W2, b2, dW1, db1, dW2, db2, alpha):\n",
    "    W1 = W1 - alpha * dW1\n",
    "    b1 = b1 - alpha * db1    \n",
    "    W2 = W2 - alpha * dW2  \n",
    "    b2 = b2 - alpha * db2    \n",
    "    return W1, b1, W2, b2"
   ]
  },
  {
   "cell_type": "code",
   "execution_count": 5,
   "id": "d3136b81",
   "metadata": {},
   "outputs": [],
   "source": [
    "def get_predictions(A2):\n",
    "    return np.argmax(A2, 0)\n",
    "\n",
    "def get_accuracy(predictions, Y):\n",
    "    print(predictions, Y)\n",
    "    return np.sum(predictions == Y) / Y.size\n",
    "\n",
    "def gradient_descent(X, Y, alpha, iterations):\n",
    "    W1, b1, W2, b2 = init_params()\n",
    "    for i in range(iterations):\n",
    "        Z1, A1, Z2, A2 = forward_prop(W1, b1, W2, b2, X)\n",
    "        dW1, db1, dW2, db2 = backward_prop(Z1, A1, Z2, A2, W1, W2, X, Y)\n",
    "        W1, b1, W2, b2 = update_params(W1, b1, W2, b2, dW1, db1, dW2, db2, alpha)\n",
    "        if i % 10 == 0:\n",
    "            print(\"Iteration: \", i)\n",
    "            predictions = get_predictions(A2)\n",
    "            print(get_accuracy(predictions, Y))\n",
    "    return W1, b1, W2, b2"
   ]
  },
  {
   "cell_type": "code",
   "execution_count": 6,
   "id": "236ee258",
   "metadata": {},
   "outputs": [
    {
     "name": "stdout",
     "output_type": "stream",
     "text": [
      "Iteration:  0\n",
      "[5 7 0 ... 7 7 1] [4 5 5 ... 8 1 1]\n",
      "0.05951219512195122\n",
      "Iteration:  10\n",
      "[7 9 0 ... 9 1 1] [4 5 5 ... 8 1 1]\n",
      "0.18158536585365853\n",
      "Iteration:  20\n",
      "[7 9 0 ... 2 1 1] [4 5 5 ... 8 1 1]\n",
      "0.26358536585365855\n",
      "Iteration:  30\n",
      "[7 7 0 ... 2 1 1] [4 5 5 ... 8 1 1]\n",
      "0.32426829268292684\n",
      "Iteration:  40\n",
      "[7 7 0 ... 8 1 1] [4 5 5 ... 8 1 1]\n",
      "0.37409756097560976\n",
      "Iteration:  50\n",
      "[7 8 0 ... 8 1 1] [4 5 5 ... 8 1 1]\n",
      "0.42721951219512194\n",
      "Iteration:  60\n",
      "[7 8 0 ... 8 1 1] [4 5 5 ... 8 1 1]\n",
      "0.4785609756097561\n",
      "Iteration:  70\n",
      "[7 5 0 ... 8 1 1] [4 5 5 ... 8 1 1]\n",
      "0.5114146341463415\n",
      "Iteration:  80\n",
      "[7 5 0 ... 8 1 1] [4 5 5 ... 8 1 1]\n",
      "0.5388536585365854\n",
      "Iteration:  90\n",
      "[7 5 0 ... 8 1 1] [4 5 5 ... 8 1 1]\n",
      "0.5739756097560975\n",
      "Iteration:  100\n",
      "[7 5 0 ... 8 1 1] [4 5 5 ... 8 1 1]\n",
      "0.6143170731707317\n",
      "Iteration:  110\n",
      "[7 5 0 ... 8 1 1] [4 5 5 ... 8 1 1]\n",
      "0.6461463414634147\n",
      "Iteration:  120\n",
      "[7 5 0 ... 8 1 1] [4 5 5 ... 8 1 1]\n",
      "0.6683170731707317\n",
      "Iteration:  130\n",
      "[7 5 0 ... 8 1 1] [4 5 5 ... 8 1 1]\n",
      "0.6859512195121952\n",
      "Iteration:  140\n",
      "[7 5 0 ... 8 1 1] [4 5 5 ... 8 1 1]\n",
      "0.7000975609756097\n",
      "Iteration:  150\n",
      "[9 5 0 ... 8 1 1] [4 5 5 ... 8 1 1]\n",
      "0.7110243902439024\n",
      "Iteration:  160\n",
      "[9 5 5 ... 8 1 1] [4 5 5 ... 8 1 1]\n",
      "0.721780487804878\n",
      "Iteration:  170\n",
      "[9 5 5 ... 8 1 1] [4 5 5 ... 8 1 1]\n",
      "0.7306341463414634\n",
      "Iteration:  180\n",
      "[9 5 5 ... 8 1 1] [4 5 5 ... 8 1 1]\n",
      "0.7401707317073171\n",
      "Iteration:  190\n",
      "[9 5 5 ... 8 1 1] [4 5 5 ... 8 1 1]\n",
      "0.7468536585365854\n",
      "Iteration:  200\n",
      "[9 5 5 ... 8 1 1] [4 5 5 ... 8 1 1]\n",
      "0.7536585365853659\n",
      "Iteration:  210\n",
      "[9 5 5 ... 8 1 1] [4 5 5 ... 8 1 1]\n",
      "0.7600243902439024\n",
      "Iteration:  220\n",
      "[9 5 5 ... 8 1 1] [4 5 5 ... 8 1 1]\n",
      "0.766609756097561\n",
      "Iteration:  230\n",
      "[9 5 5 ... 8 1 1] [4 5 5 ... 8 1 1]\n",
      "0.772609756097561\n",
      "Iteration:  240\n",
      "[9 5 5 ... 8 1 1] [4 5 5 ... 8 1 1]\n",
      "0.7775365853658537\n",
      "Iteration:  250\n",
      "[9 5 5 ... 8 1 1] [4 5 5 ... 8 1 1]\n",
      "0.7828048780487805\n",
      "Iteration:  260\n",
      "[9 5 5 ... 8 1 1] [4 5 5 ... 8 1 1]\n",
      "0.787219512195122\n",
      "Iteration:  270\n",
      "[9 5 5 ... 8 1 1] [4 5 5 ... 8 1 1]\n",
      "0.7919512195121952\n",
      "Iteration:  280\n",
      "[9 5 5 ... 8 1 1] [4 5 5 ... 8 1 1]\n",
      "0.7961951219512196\n",
      "Iteration:  290\n",
      "[9 5 5 ... 8 1 1] [4 5 5 ... 8 1 1]\n",
      "0.8011219512195122\n",
      "Iteration:  300\n",
      "[9 5 5 ... 8 1 1] [4 5 5 ... 8 1 1]\n",
      "0.8056341463414635\n",
      "Iteration:  310\n",
      "[9 5 5 ... 8 1 1] [4 5 5 ... 8 1 1]\n",
      "0.809439024390244\n",
      "Iteration:  320\n",
      "[9 5 5 ... 8 1 1] [4 5 5 ... 8 1 1]\n",
      "0.8135365853658536\n",
      "Iteration:  330\n",
      "[9 5 5 ... 8 1 1] [4 5 5 ... 8 1 1]\n",
      "0.8169268292682926\n",
      "Iteration:  340\n",
      "[9 5 5 ... 8 1 1] [4 5 5 ... 8 1 1]\n",
      "0.8201951219512195\n",
      "Iteration:  350\n",
      "[9 5 5 ... 8 1 1] [4 5 5 ... 8 1 1]\n",
      "0.8226097560975609\n",
      "Iteration:  360\n",
      "[9 5 5 ... 8 1 1] [4 5 5 ... 8 1 1]\n",
      "0.825560975609756\n",
      "Iteration:  370\n",
      "[9 5 5 ... 8 1 1] [4 5 5 ... 8 1 1]\n",
      "0.8285365853658536\n",
      "Iteration:  380\n",
      "[9 5 5 ... 8 1 1] [4 5 5 ... 8 1 1]\n",
      "0.8312439024390244\n",
      "Iteration:  390\n",
      "[9 5 5 ... 8 1 1] [4 5 5 ... 8 1 1]\n",
      "0.8335121951219512\n",
      "Iteration:  400\n",
      "[9 5 5 ... 8 1 1] [4 5 5 ... 8 1 1]\n",
      "0.8355365853658536\n",
      "Iteration:  410\n",
      "[9 5 5 ... 8 1 1] [4 5 5 ... 8 1 1]\n",
      "0.8375609756097561\n",
      "Iteration:  420\n",
      "[9 5 5 ... 8 1 1] [4 5 5 ... 8 1 1]\n",
      "0.8397073170731707\n",
      "Iteration:  430\n",
      "[9 5 5 ... 8 1 1] [4 5 5 ... 8 1 1]\n",
      "0.8417073170731707\n",
      "Iteration:  440\n",
      "[9 5 5 ... 8 1 1] [4 5 5 ... 8 1 1]\n",
      "0.8434146341463414\n",
      "Iteration:  450\n",
      "[9 5 5 ... 8 1 1] [4 5 5 ... 8 1 1]\n",
      "0.8450243902439024\n",
      "Iteration:  460\n",
      "[9 5 5 ... 8 1 1] [4 5 5 ... 8 1 1]\n",
      "0.8467317073170731\n",
      "Iteration:  470\n",
      "[9 5 5 ... 8 1 1] [4 5 5 ... 8 1 1]\n",
      "0.8481951219512195\n",
      "Iteration:  480\n",
      "[9 5 5 ... 8 1 1] [4 5 5 ... 8 1 1]\n",
      "0.850170731707317\n",
      "Iteration:  490\n",
      "[9 5 5 ... 8 1 1] [4 5 5 ... 8 1 1]\n",
      "0.8516585365853658\n"
     ]
    }
   ],
   "source": [
    "W1, b1, W2, b2 = gradient_descent(X_train, Y_train, 0.15, 500)"
   ]
  },
  {
   "cell_type": "code",
   "execution_count": 7,
   "id": "918cc1c9",
   "metadata": {},
   "outputs": [],
   "source": [
    "def make_predictions(X, W1, b1, W2, b2):\n",
    "    _, _, _, A2 = forward_prop(W1, b1, W2, b2, X)\n",
    "    predictions = get_predictions(A2)\n",
    "    return predictions\n"
   ]
  },
  {
   "cell_type": "code",
   "execution_count": 8,
   "id": "2a869b31",
   "metadata": {},
   "outputs": [],
   "source": [
    "def backward_propagation(X, y, weights, for_prop): \n",
    "    # from chain rule. we are measuring the influence of biases and weights to change of output layers softmax values\n",
    "    m = X.shape[0]\n",
    "    dZ3 = for_prop['A3'].T - y\n",
    "    dW3 = (for_prop['A2'].T @ dZ3.T) / m\n",
    "    db3 = np.sum(dZ3) / m\n",
    "    dA2 = dZ3.T @ weights['W3'].T\n",
    "    dZ2 = dA2 * (for_prop['A2'] > 0)\n",
    "    dW2 = (for_prop['A1'].T @ dZ2) / m\n",
    "    db2 = np.sum(dZ2) / m\n",
    "    dA1 = dZ2 @ weights['W2'].T\n",
    "    dZ1 = dA1 * (for_prop['A1'] > 0)\n",
    "    dW1 = (X @ dZ1) / m\n",
    "    db1 = np.sum(dZ1) / m\n",
    "    return {'db1':db1, 'dW1':dW1, 'db2':db2, 'dW2':dW2, 'db3':db3, 'dW3':dW3}"
   ]
  },
  {
   "cell_type": "code",
   "execution_count": 9,
   "id": "6acc78fe",
   "metadata": {},
   "outputs": [],
   "source": [
    "def update_weights(learning_rate, gradients, weights):\n",
    "    weights['W1'] -= (learning_rate*gradients['dW1'])\n",
    "    weights['b1'] -= (learning_rate*gradients['db1'])\n",
    "    weights['W2'] -= (learning_rate*gradients['dW2'])\n",
    "    weights['b2'] -= (learning_rate*gradients['db2'])\n",
    "    weights['W3'] -= (learning_rate*gradients['dW3'])\n",
    "    weights['b3'] -= (learning_rate*gradients['db3'])\n",
    "    return weights"
   ]
  },
  {
   "cell_type": "code",
   "execution_count": 10,
   "id": "e1b432af",
   "metadata": {},
   "outputs": [],
   "source": [
    "def test_prediction(index, W1, b1, W2, b2):\n",
    "    current_image = X_train[:, index, None]\n",
    "    prediction = make_predictions(X_train[:, index, None], W1, b1, W2, b2)\n",
    "    label = Y_train[index]\n",
    "    print(\"Prediction: \", prediction)\n",
    "    print(\"Label: \", label)\n",
    "    \n",
    "    current_image = current_image.reshape((28, 28)) * 255\n",
    "    plt.gray()\n",
    "    plt.imshow(current_image, interpolation='nearest')\n",
    "    plt.show()"
   ]
  },
  {
   "cell_type": "code",
   "execution_count": 11,
   "id": "322732ae",
   "metadata": {},
   "outputs": [
    {
     "name": "stdout",
     "output_type": "stream",
     "text": [
      "Prediction:  [8]\n",
      "Label:  8\n"
     ]
    },
    {
     "data": {
      "image/png": "[encoded data removed]",
      "text/plain": [
       "<Figure size 640x480 with 1 Axes>"
      ]
     },
     "metadata": {},
     "output_type": "display_data"
    }
   ],
   "source": [
    "test_prediction(655, W1, b1, W2, b2)\n"
   ]
  },
  {
   "cell_type": "code",
   "execution_count": 12,
   "id": "74086ebc",
   "metadata": {},
   "outputs": [
    {
     "name": "stdout",
     "output_type": "stream",
     "text": [
      "[9 7 1 9 1 1 4 5 0 1 1 7 3 8 4 0 7 8 1 7 1 1 4 3 6 9 8 9 2 2 0 3 3 3 8 6 0\n",
      " 2 4 6 9 2 9 7 4 5 1 7 6 0 1 9 0 1 7 9 8 4 0 9 2 1 4 8 9 8 6 3 0 5 9 5 9 0\n",
      " 0 2 7 2 1 6 1 0 5 9 3 2 1 2 6 0 3 4 3 2 6 3 0 4 8 0 5 9 3 8 6 5 7 5 8 1 4\n",
      " 0 6 8 1 8 6 9 4 8 3 5 8 7 9 6 3 1 0 6 4 3 0 1 5 0 3 9 2 3 3 8 2 3 0 7 5 4\n",
      " 6 5 6 3 2 7 3 7 6 4 7 8 3 3 0 7 1 2 8 3 7 6 9 8 1 5 9 6 1 5 5 4 0 0 2 3 2\n",
      " 4 8 2 8 4 4 1 4 5 4 4 4 3 1 8 7 1 9 5 2 9 7 4 3 8 4 0 8 6 1 6 8 3 6 9 2 9\n",
      " 0 6 3 3 0 0 8 2 6 6 8 2 9 3 2 1 3 9 8 9 9 1 5 1 0 2 9 3 7 9 7 0 1 4 1 1 2\n",
      " 4 0 1 8 1 6 8 4 3 2 3 3 0 5 8 9 7 7 0 8 8 2 6 4 7 6 5 1 8 7 4 6 1 5 1 2 4\n",
      " 4 4 1 9 9 0 2 2 4 0 9 4 2 5 1 8 6 1 6 7 8 3 2 4 8 9 0 8 2 2 1 4 5 8 6 9 7\n",
      " 3 3 3 7 9 3 4 3 7 7 6 8 5 8 6 5 2 1 7 4 6 8 6 0 8 9 9 9 6 0 4 2 9 4 0 2 4\n",
      " 8 4 6 6 0 2 2 0 1 6 3 6 7 8 5 3 5 9 5 6 6 7 3 9 5 1 1 2 9 4 9 3 4 2 0 6 2\n",
      " 8 1 7 1 1 2 4 4 7 4 7 3 9 7 7 1 8 2 8 0 3 4 2 1 3 2 0 5 8 9 3 8 6 3 4 7 7\n",
      " 2 8 2 6 4 6 2 4 7 1 0 5 3 8 6 5 9 5 9 8 8 7 1 5 6 1 7 9 6 1 0 4 1 6 5 6 6\n",
      " 7 0 4 8 9 1 3 1 3 5 9 0 4 0 2 1 9 1 0 9 9 2 0 4 9 4 6 0 0 2 5 8 9 9 9 6 7\n",
      " 5 1 3 1 9 2 5 3 2 8 0 9 1 1 5 9 4 6 3 9 1 4 1 8 8 8 2 8 0 8 2 2 0 4 5 4 2\n",
      " 5 8 8 9 0 7 5 3 3 1 4 8 0 7 7 9 5 0 6 7 1 0 2 7 9 5 4 0 2 2 6 8 7 3 3 0 3\n",
      " 8 5 4 8 1 5 5 1 3 3 2 7 5 4 6 8 8 7 7 5 8 9 6 1 0 1 7 1 4 6 9 2 9 8 8 7 3\n",
      " 6 9 3 2 4 1 4 6 1 0 6 2 3 7 3 3 5 9 6 8 8 7 7 9 4 5 9 8 3 5 7 1 5 7 2 9 3\n",
      " 6 3 6 8 6 4 6 1 3 9 7 4 9 6 0 0 2 9 9 7 1 7 4 6 8 4 0 2 1 1 0 3 0 7 6 1 2\n",
      " 0 1 9 4 3 6 5 7 8 1 1 7 2 1 1 7 8 8 4 5 3 7 8 0 7 4 0 8 3 0 7 5 0 8 3 1 7\n",
      " 6 8 3 2 1 1 2 7 5 0 8 8 7 1 6 8 3 1 0 0 0 2 8 4 2 3 6 4 7 5 5 1 8 6 2 8 0\n",
      " 4 9 9 2 5 9 2 0 6 2 8 8 6 7 0 8 0 0 8 5 6 4 2 7 7 2 9 9 9 6 6 5 6 4 0 1 0\n",
      " 7 6 0 3 8 4 8 1 6 4 7 8 2 3 7 0 1 1 3 1 2 4 1 2 5 5 0 1 7 6 2 9 9 1 6 7 8\n",
      " 5 3 0 1 9 1 2 1 3 3 5 5 7 9 3 8 1 9 6 0 4 6 2 4 7 5 3 8 1 1 7 0 6 1 9 3 8\n",
      " 8 4 6 6 6 0 6 2 7 8 1 9 5 2 6 1 6 4 1 7 8 6 9 8 7 3 1 0 2 9 9 6 8 4 1 1 0\n",
      " 9 1 1 1 8 2 6 6 5 8 7 3 4 5 3 8 9 9 6 8 1 0 7 6 6 2 9 2 0 3 9 3 3 2 8 6 1\n",
      " 8 0 8 1 2 4 4 9 1 2 3 9 5 6 8 3 3 6 4 0 5 0 4 0 7 6 0 4 3 9 4 4 7 1 7 7 4\n",
      " 6] [9 7 1 9 1 1 4 5 0 1 1 7 8 8 4 0 7 8 1 7 1 1 4 3 6 3 8 9 2 2 0 3 3 3 8 6 0\n",
      " 2 4 6 9 2 9 7 4 8 1 7 8 0 1 9 0 1 7 9 8 4 7 9 2 2 4 8 9 8 8 3 0 5 9 7 9 0\n",
      " 0 2 7 2 2 6 1 0 5 9 3 2 1 2 6 0 3 4 3 2 6 3 5 9 5 0 5 9 3 8 6 3 7 5 8 1 4\n",
      " 0 6 8 1 8 6 9 4 8 5 5 8 7 8 6 8 1 0 6 4 3 0 1 5 0 3 9 3 3 3 8 2 3 0 7 5 9\n",
      " 6 5 6 3 8 7 3 7 6 4 7 8 3 3 0 7 1 2 3 3 7 6 4 8 1 0 9 6 1 3 5 4 0 8 2 8 2\n",
      " 4 8 2 8 9 4 1 4 5 4 4 4 3 1 8 7 1 9 5 2 9 7 9 3 8 4 2 8 6 1 6 8 3 6 9 5 9\n",
      " 0 6 3 3 0 0 8 2 6 6 8 0 9 3 2 1 3 9 0 9 9 1 8 1 0 2 4 3 7 4 7 0 1 4 1 1 2\n",
      " 4 0 1 8 1 6 2 4 3 2 3 3 0 0 8 9 7 7 0 8 8 9 6 4 7 6 5 1 8 9 4 6 1 5 1 2 4\n",
      " 4 4 7 4 9 0 2 2 4 0 9 4 2 8 1 8 6 1 6 7 8 3 2 4 5 9 0 8 2 2 1 4 5 8 0 9 9\n",
      " 3 3 3 7 4 3 4 5 7 7 6 8 5 8 6 5 2 1 7 4 6 8 6 0 8 9 7 9 6 0 4 7 4 4 0 2 9\n",
      " 5 4 6 6 0 2 2 0 1 6 2 6 3 2 5 3 8 9 5 6 6 7 1 9 5 1 1 8 8 4 9 3 2 8 0 6 2\n",
      " 8 1 7 1 1 2 4 4 7 4 7 5 9 7 7 1 8 8 8 0 3 4 2 1 3 2 0 5 8 4 3 8 6 5 4 7 2\n",
      " 2 5 2 6 4 6 2 4 7 1 0 5 3 8 6 3 9 5 9 8 8 7 1 3 6 1 7 9 6 1 0 4 1 6 5 6 6\n",
      " 7 0 4 8 8 1 3 1 3 5 9 0 4 8 2 1 9 1 0 5 8 2 0 4 9 4 6 0 0 2 0 1 9 9 9 6 9\n",
      " 5 1 3 1 9 2 5 3 2 8 0 9 3 1 3 9 4 6 3 9 1 4 1 8 8 9 2 8 0 8 2 2 0 4 5 4 2\n",
      " 5 8 8 4 0 7 5 3 3 1 4 8 0 7 7 3 5 0 6 7 1 0 2 7 9 5 6 9 2 2 6 8 7 3 3 0 3\n",
      " 8 5 4 8 1 5 0 1 5 3 2 7 6 4 6 8 8 7 7 5 8 9 6 1 0 1 7 1 4 6 9 2 9 8 8 7 3\n",
      " 6 7 3 2 4 1 4 5 1 0 6 2 8 8 9 5 5 4 6 1 8 7 7 9 4 5 9 8 3 5 2 1 5 7 2 9 3\n",
      " 6 3 6 8 5 4 6 1 3 7 7 4 9 6 0 0 2 9 9 7 8 7 4 6 8 4 2 2 1 1 0 3 0 7 6 1 2\n",
      " 0 1 3 4 3 6 2 7 5 1 1 9 2 8 1 7 8 8 4 5 3 7 8 0 7 4 0 8 3 2 7 5 0 8 3 1 7\n",
      " 6 8 3 2 1 1 2 7 8 0 8 8 7 1 6 8 3 1 0 0 0 2 9 4 2 3 6 4 7 5 8 1 8 6 4 8 0\n",
      " 4 9 9 2 3 9 2 6 6 2 4 3 6 7 0 8 0 5 8 5 6 4 8 7 7 2 9 9 7 6 6 5 6 4 4 1 0\n",
      " 7 6 0 3 8 4 8 5 6 4 7 2 2 3 7 0 1 1 3 1 2 4 1 2 5 5 0 1 7 6 2 9 9 1 6 7 8\n",
      " 0 3 0 1 9 1 2 1 3 3 5 5 7 9 3 8 1 4 6 0 4 6 2 4 7 8 3 8 1 1 7 0 6 7 9 3 8\n",
      " 8 4 6 6 6 0 6 2 7 4 1 9 5 2 6 1 6 4 1 7 8 6 9 8 7 3 1 0 2 9 2 6 8 4 1 1 0\n",
      " 9 1 4 1 1 2 6 6 5 8 7 3 4 5 6 3 9 9 6 8 1 5 7 6 2 2 9 2 0 3 9 3 3 2 8 6 1\n",
      " 5 0 1 1 2 9 4 7 1 2 3 9 7 6 8 8 3 6 4 0 5 0 5 0 7 6 0 4 9 9 4 6 7 1 7 7 4\n",
      " 6]\n"
     ]
    },
    {
     "data": {
      "text/plain": [
       "0.861"
      ]
     },
     "execution_count": 12,
     "metadata": {},
     "output_type": "execute_result"
    }
   ],
   "source": [
    "dev_predictions = make_predictions(X_dev, W1, b1, W2, b2)\n",
    "get_accuracy(dev_predictions, Y_dev)"
   ]
  },
  {
   "cell_type": "code",
   "execution_count": 13,
   "id": "0809e8aa",
   "metadata": {},
   "outputs": [
    {
     "name": "stdout",
     "output_type": "stream",
     "text": [
      "Prediction:  [8]\n",
      "Label:  7\n"
     ]
    },
    {
     "data": {
      "image/png": "[encoded data removed]",
      "text/plain": [
       "<Figure size 640x480 with 1 Axes>"
      ]
     },
     "metadata": {},
     "output_type": "display_data"
    }
   ],
   "source": [
    "test_prediction(100, W1, b1, W2, b2)"
   ]
  },
  {
   "cell_type": "code",
   "execution_count": 28,
   "id": "f6589949",
   "metadata": {},
   "outputs": [
    {
     "name": "stdout",
     "output_type": "stream",
     "text": [
      "Prediction:  [1]\n",
      "Label:  1\n"
     ]
    },
    {
     "data": {
      "image/png": "[encoded data removed]",
      "text/plain": [
       "<Figure size 640x480 with 1 Axes>"
      ]
     },
     "metadata": {},
     "output_type": "display_data"
    }
   ],
   "source": [
    "test_prediction(39999, W1, b1, W2, b2)"
   ]
  },
  {
   "cell_type": "code",
   "execution_count": null,
   "id": "3c9c4d9c",
   "metadata": {},
   "outputs": [],
   "source": []
  },
  {
   "cell_type": "code",
   "execution_count": null,
   "id": "684fd0a9",
   "metadata": {},
   "outputs": [],
   "source": []
  },
  {
   "cell_type": "code",
   "execution_count": null,
   "id": "74462b16",
   "metadata": {},
   "outputs": [],
   "source": []
  },
  {
   "cell_type": "code",
   "execution_count": null,
   "id": "cff859f4",
   "metadata": {},
   "outputs": [],
   "source": []
  }
 ],
 "metadata": {
  "kernelspec": {
   "display_name": "Python 3 (ipykernel)",
   "language": "python",
   "name": "python3"
  },
  "language_info": {
   "codemirror_mode": {
    "name": "ipython",
    "version": 3
   },
   "file_extension": ".py",
   "mimetype": "text/x-python",
   "name": "python",
   "nbconvert_exporter": "python",
   "pygments_lexer": "ipython3",
   "version": "3.10.9"
  }
 },
 "nbformat": 4,
 "nbformat_minor": 5
}
